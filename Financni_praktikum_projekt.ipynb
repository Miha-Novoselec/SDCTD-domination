{
 "cells": [
  {
   "cell_type": "code",
   "execution_count": 48,
   "id": "a88908",
   "metadata": {
    "collapsed": false
   },
   "outputs": [
    {
     "name": "stdout",
     "output_type": "stream",
     "text": [
      "Slaba, graf nima SDCTD dominacije\n"
     ]
    }
   ],
   "source": [
    "g = Graph([(0,1),(1,2)])\n",
    "h = g.complement()  \n",
    "\n",
    "p = MixedIntegerLinearProgram(maximization = False)\n",
    "x = p.new_variable(binary = True)\n",
    "p.set_objective(sum([x[v] for v in g]))\n",
    "\n",
    "for v in g.vertices():\n",
    "    p.add_constraint(sum((x[w] + x[v]) for w in g.neighbors(v)) >= 1) \n",
    "\n",
    "zaustavi = False\n",
    "    \n",
    "for v in g.vertices():\n",
    "    neighbors_complement = h.neighbors(v)  \n",
    "    if neighbors_complement:  \n",
    "        p.add_constraint(sum(x[w] for w in neighbors_complement) >= 1)\n",
    "        \n",
    "    else:\n",
    "        print(\"Slaba, graf nima SDCTD dominacije\")  \n",
    "        zaustavi = True\n",
    "        break \n",
    "        \n",
    "if not zaustavi == True:\n",
    "    p.solve()\n",
    "    x = p.get_values(x)\n",
    "    print([v for v, i in x.items() if i == 1])  "
   ]
  }
 ],
 "metadata": {
  "kernelspec": {
   "argv": [
    "sage-10.4",
    "--python",
    "-m",
    "sage.repl.ipython_kernel",
    "--matplotlib=inline",
    "-f",
    "{connection_file}"
   ],
   "display_name": "SageMath 10.4",
   "env": {
   },
   "language": "sagemath",
   "metadata": {
    "cocalc": {
     "description": "Open-source mathematical software system",
     "priority": 10,
     "url": "https://www.sagemath.org/"
    }
   },
   "name": "sage-10.4",
   "resource_dir": "/ext/jupyter/kernels/sage-10.4"
  },
  "language_info": {
   "codemirror_mode": {
    "name": "ipython",
    "version": 3
   },
   "file_extension": ".py",
   "mimetype": "text/x-python",
   "name": "python",
   "nbconvert_exporter": "python",
   "pygments_lexer": "ipython3",
   "version": "3.12.4"
  }
 },
 "nbformat": 4,
 "nbformat_minor": 4
}